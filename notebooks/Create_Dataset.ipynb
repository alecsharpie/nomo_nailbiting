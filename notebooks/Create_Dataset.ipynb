{
 "cells": [
  {
   "cell_type": "markdown",
   "id": "024982d6",
   "metadata": {},
   "source": [
    "# Take Photos For Dataset"
   ]
  },
  {
   "cell_type": "code",
   "execution_count": null,
   "id": "7d8e0684",
   "metadata": {},
   "outputs": [],
   "source": [
    "import cv2\n",
    "from datetime import datetime"
   ]
  },
  {
   "cell_type": "code",
   "execution_count": null,
   "id": "aa00dcf0",
   "metadata": {},
   "outputs": [],
   "source": [
    "class_names = ['no_biting', 'biting']"
   ]
  },
  {
   "cell_type": "code",
   "execution_count": null,
   "id": "1379d1c6",
   "metadata": {},
   "outputs": [],
   "source": [
    "# take photos for dataset\n",
    "\n",
    "current_class_name = 'biting'\n",
    "\n",
    "path_to_data = '../raw_data/image_dataset'\n",
    "\n",
    "def add_photo_to_dataset(path_to_data, current_class_name):\n",
    "    cam = cv2.VideoCapture(0)   # 0 -> index of camera\n",
    "    s, img = cam.read()\n",
    "    if s:\n",
    "        file_name = f\"{path_to_data}/{current_class_name}/{str(datetime.now())}.jpg\"\n",
    "        cv2.imwrite(file_name, img) #save image\n",
    "        \n",
    "#add_photo_to_dataset('../raw_data/image_dataset', 'biting')"
   ]
  },
  {
   "cell_type": "markdown",
   "id": "a1972eb3",
   "metadata": {},
   "source": [
    "# Preprocess Data"
   ]
  },
  {
   "cell_type": "code",
   "execution_count": null,
   "id": "730af41c",
   "metadata": {},
   "outputs": [],
   "source": [
    "!ls ../raw_data/preprocessed_image_dataset"
   ]
  },
  {
   "cell_type": "code",
   "execution_count": null,
   "id": "4eb98d83",
   "metadata": {},
   "outputs": [],
   "source": [
    "from tensorflow.keras.utils import save_img, load_img\n",
    "from tensorflow.image import rgb_to_grayscale \n",
    "import os\n",
    "import numpy as np\n",
    "from tqdm import tqdm\n",
    "\n",
    "# greyscale & shrink images for upload\n",
    "preprocess = Sequential([\n",
    "    Rescaling(1/255),\n",
    "    Resizing(256, 256)\n",
    "])\n",
    "\n",
    "old_path = '../raw_data/image_dataset'\n",
    "new_path = '../raw_data/preprocessed_image_dataset'\n",
    "\n",
    "def preprocess_dataset(old_path, new_path):\n",
    "    for class_name in ['no_biting', 'biting']:\n",
    "        for file in tqdm(os.listdir(f\"{old_path}/{class_name}\")):\n",
    "            if file.endswith('.jpg'):\n",
    "                img = load_img(f'{load_path}/{class_name}/{file}')\n",
    "                preprocessed_img = preprocess(np.expand_dims(img, 0))\n",
    "                bw_img = rgb_to_grayscale(preprocessed_img).numpy().reshape(256, 256, 1)\n",
    "                save_img(f'{new_path}/{class_name}/{file}', bw_img)\n"
   ]
  }
 ],
 "metadata": {
  "kernelspec": {
   "display_name": "Python 3 (ipykernel)",
   "language": "python",
   "name": "python3"
  },
  "language_info": {
   "codemirror_mode": {
    "name": "ipython",
    "version": 3
   },
   "file_extension": ".py",
   "mimetype": "text/x-python",
   "name": "python",
   "nbconvert_exporter": "python",
   "pygments_lexer": "ipython3",
   "version": "3.8.6"
  }
 },
 "nbformat": 4,
 "nbformat_minor": 5
}
